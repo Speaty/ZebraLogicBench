{
 "cells": [
  {
   "cell_type": "code",
   "execution_count": 1,
   "metadata": {},
   "outputs": [],
   "source": [
    "import json"
   ]
  },
  {
   "cell_type": "code",
   "execution_count": 2,
   "metadata": {},
   "outputs": [],
   "source": [
    "def load_json(filename):\n",
    "    with open(filename, 'r') as f:\n",
    "        return json.load(f)\n",
    "    \n",
    "def compare_dicts(dict1, dict2):\n",
    "    differences = {}\n",
    "    all_keys = set(dict1.keys()) | set(dict2.keys())\n",
    "    for key in all_keys:\n",
    "        val1 = dict1.get(key)\n",
    "        val2 = dict2.get(key)\n",
    "        if val1 != val2:\n",
    "            differences[key] = {\"file 1\": val1,\"file 2\": val2}\n",
    "    return differences\n",
    "        \n",
    "           "
   ]
  },
  {
   "cell_type": "code",
   "execution_count": 4,
   "metadata": {},
   "outputs": [
    {
     "name": "stdout",
     "output_type": "stream",
     "text": [
      "[]\n"
     ]
    }
   ],
   "source": [
    "file1 = './result_dirs/zebra-grid/json1/Qwen2-7B-Instruct.json'\n",
    "file2 = './result_dirs/zebra-grid-res1/json/Qwen2-7B-Instruct.json'\n",
    "\n",
    "data_1 = load_json(file1)\n",
    "data_2 = load_json(file2)\n",
    "\n",
    "d1 = {d[\"session_id\"]: d for d in data_1}\n",
    "d2 = {d[\"session_id\"]: d for d in data_2}\n",
    "\n",
    "results = []\n",
    "\n",
    "all_session_ids = set(d1.keys()) | set(d2.keys())\n",
    "for session_id in all_session_ids:\n",
    "    if session_id not in d1:\n",
    "        results.append({session_id: \"missing from file 1\"})\n",
    "    elif session_id not in d2:\n",
    "        results.append({session_id: \"missing from file 2\"})\n",
    "    else:\n",
    "        differences = compare_dicts(d1[session_id], d2[session_id])\n",
    "        if differences:\n",
    "            results.append({session_id: differences})\n",
    "\n",
    "print(json.dumps(results, indent=2))"
   ]
  },
  {
   "cell_type": "code",
   "execution_count": null,
   "metadata": {},
   "outputs": [],
   "source": []
  }
 ],
 "metadata": {
  "kernelspec": {
   "display_name": "json-llm",
   "language": "python",
   "name": "python3"
  },
  "language_info": {
   "codemirror_mode": {
    "name": "ipython",
    "version": 3
   },
   "file_extension": ".py",
   "mimetype": "text/x-python",
   "name": "python",
   "nbconvert_exporter": "python",
   "pygments_lexer": "ipython3",
   "version": "3.11.11"
  }
 },
 "nbformat": 4,
 "nbformat_minor": 2
}
