{
 "cells": [
  {
   "cell_type": "code",
   "execution_count": 3,
   "metadata": {},
   "outputs": [],
   "source": [
    "import json"
   ]
  },
  {
   "cell_type": "code",
   "execution_count": 4,
   "metadata": {},
   "outputs": [],
   "source": [
    "def load_json(filename):\n",
    "    with open(filename, 'r') as f:\n",
    "        return json.load(f)\n",
    "    \n",
    "def save_file(filename, data):\n",
    "    with open(filename, 'w') as f:\n",
    "        json.dump(data, f, indent=4)"
   ]
  },
  {
   "cell_type": "code",
   "execution_count": 8,
   "metadata": {},
   "outputs": [
    {
     "name": "stdout",
     "output_type": "stream",
     "text": [
      "<class 'list'>\n",
      "500\n",
      "1000\n"
     ]
    }
   ],
   "source": [
    "f1 = 'result_dirs/zebra-grid/json/tmp_Llama3.1-8B-Instruct/Llama3.1-8B-Instruct.0-500.json'\n",
    "f2 = 'result_dirs/zebra-grid/json/tmp_Llama3.1-8B-Instruct/Llama3.1-8B-Instruct.500-1000.json'\n",
    "\n",
    "data1 = load_json(f1)\n",
    "data2 = load_json(f2)\n",
    "\n",
    "print(type(data1))\n",
    "print(len(data1))\n",
    "data = data1 + data2\n",
    "print(len(data))\n",
    "\n",
    "save_file('result_dirs/zebra-grid/json/Llama3.1-8B-Instruct.json', data)"
   ]
  },
  {
   "cell_type": "code",
   "execution_count": null,
   "metadata": {},
   "outputs": [],
   "source": []
  }
 ],
 "metadata": {
  "kernelspec": {
   "display_name": "json-llm",
   "language": "python",
   "name": "python3"
  },
  "language_info": {
   "codemirror_mode": {
    "name": "ipython",
    "version": 3
   },
   "file_extension": ".py",
   "mimetype": "text/x-python",
   "name": "python",
   "nbconvert_exporter": "python",
   "pygments_lexer": "ipython3",
   "version": "3.11.11"
  }
 },
 "nbformat": 4,
 "nbformat_minor": 2
}
